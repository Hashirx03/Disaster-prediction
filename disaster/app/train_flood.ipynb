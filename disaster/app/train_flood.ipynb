{
 "cells": [
  {
   "cell_type": "code",
   "execution_count": 13,
   "metadata": {},
   "outputs": [],
   "source": [
    "import pandas as pd\n",
    "from sklearn.model_selection import train_test_split\n",
    "from sklearn.preprocessing import StandardScaler, OneHotEncoder\n",
    "from sklearn.compose import ColumnTransformer\n",
    "from sklearn.pipeline import Pipeline\n",
    "from sklearn.feature_selection import SelectKBest, chi2\n",
    "from sklearn.metrics import accuracy_score, classification_report, confusion_matrix\n",
    "import matplotlib.pyplot as plt\n",
    "from sklearn.preprocessing import LabelEncoder\n",
    "from sklearn.metrics import accuracy_score, precision_score, recall_score, f1_score, confusion_matrix\n",
    "import seaborn as sns\n",
    "from sklearn.metrics import mean_squared_error\n",
    "from sklearn.tree import DecisionTreeRegressor\n",
    "from sklearn.ensemble import RandomForestRegressor\n",
    "from sklearn.linear_model import LinearRegression"
   ]
  },
  {
   "cell_type": "code",
   "execution_count": 2,
   "metadata": {},
   "outputs": [],
   "source": [
    "data=pd.read_csv(\"Flood Dataset.csv\")"
   ]
  },
  {
   "cell_type": "code",
   "execution_count": 10,
   "metadata": {},
   "outputs": [
    {
     "data": {
      "text/plain": [
       "(50000, 21)"
      ]
     },
     "execution_count": 10,
     "metadata": {},
     "output_type": "execute_result"
    }
   ],
   "source": [
    "data.shape"
   ]
  },
  {
   "cell_type": "code",
   "execution_count": 3,
   "metadata": {},
   "outputs": [
    {
     "data": {
      "text/html": [
       "<div>\n",
       "<style scoped>\n",
       "    .dataframe tbody tr th:only-of-type {\n",
       "        vertical-align: middle;\n",
       "    }\n",
       "\n",
       "    .dataframe tbody tr th {\n",
       "        vertical-align: top;\n",
       "    }\n",
       "\n",
       "    .dataframe thead th {\n",
       "        text-align: right;\n",
       "    }\n",
       "</style>\n",
       "<table border=\"1\" class=\"dataframe\">\n",
       "  <thead>\n",
       "    <tr style=\"text-align: right;\">\n",
       "      <th></th>\n",
       "      <th>MonsoonIntensity</th>\n",
       "      <th>TopographyDrainage</th>\n",
       "      <th>RiverManagement</th>\n",
       "      <th>Deforestation</th>\n",
       "      <th>Urbanization</th>\n",
       "      <th>ClimateChange</th>\n",
       "      <th>DamsQuality</th>\n",
       "      <th>Siltation</th>\n",
       "      <th>AgriculturalPractices</th>\n",
       "      <th>Encroachments</th>\n",
       "      <th>...</th>\n",
       "      <th>DrainageSystems</th>\n",
       "      <th>CoastalVulnerability</th>\n",
       "      <th>Landslides</th>\n",
       "      <th>Watersheds</th>\n",
       "      <th>DeterioratingInfrastructure</th>\n",
       "      <th>PopulationScore</th>\n",
       "      <th>WetlandLoss</th>\n",
       "      <th>InadequatePlanning</th>\n",
       "      <th>PoliticalFactors</th>\n",
       "      <th>FloodProbability</th>\n",
       "    </tr>\n",
       "  </thead>\n",
       "  <tbody>\n",
       "    <tr>\n",
       "      <th>0</th>\n",
       "      <td>3</td>\n",
       "      <td>8</td>\n",
       "      <td>6</td>\n",
       "      <td>6</td>\n",
       "      <td>4</td>\n",
       "      <td>4</td>\n",
       "      <td>6</td>\n",
       "      <td>2</td>\n",
       "      <td>3</td>\n",
       "      <td>2</td>\n",
       "      <td>...</td>\n",
       "      <td>10</td>\n",
       "      <td>7</td>\n",
       "      <td>4</td>\n",
       "      <td>2</td>\n",
       "      <td>3</td>\n",
       "      <td>4</td>\n",
       "      <td>3</td>\n",
       "      <td>2</td>\n",
       "      <td>6</td>\n",
       "      <td>0.450</td>\n",
       "    </tr>\n",
       "    <tr>\n",
       "      <th>1</th>\n",
       "      <td>8</td>\n",
       "      <td>4</td>\n",
       "      <td>5</td>\n",
       "      <td>7</td>\n",
       "      <td>7</td>\n",
       "      <td>9</td>\n",
       "      <td>1</td>\n",
       "      <td>5</td>\n",
       "      <td>5</td>\n",
       "      <td>4</td>\n",
       "      <td>...</td>\n",
       "      <td>9</td>\n",
       "      <td>2</td>\n",
       "      <td>6</td>\n",
       "      <td>2</td>\n",
       "      <td>1</td>\n",
       "      <td>1</td>\n",
       "      <td>9</td>\n",
       "      <td>1</td>\n",
       "      <td>3</td>\n",
       "      <td>0.475</td>\n",
       "    </tr>\n",
       "    <tr>\n",
       "      <th>2</th>\n",
       "      <td>3</td>\n",
       "      <td>10</td>\n",
       "      <td>4</td>\n",
       "      <td>1</td>\n",
       "      <td>7</td>\n",
       "      <td>5</td>\n",
       "      <td>4</td>\n",
       "      <td>7</td>\n",
       "      <td>4</td>\n",
       "      <td>9</td>\n",
       "      <td>...</td>\n",
       "      <td>7</td>\n",
       "      <td>4</td>\n",
       "      <td>4</td>\n",
       "      <td>8</td>\n",
       "      <td>6</td>\n",
       "      <td>1</td>\n",
       "      <td>8</td>\n",
       "      <td>3</td>\n",
       "      <td>6</td>\n",
       "      <td>0.515</td>\n",
       "    </tr>\n",
       "    <tr>\n",
       "      <th>3</th>\n",
       "      <td>4</td>\n",
       "      <td>4</td>\n",
       "      <td>2</td>\n",
       "      <td>7</td>\n",
       "      <td>3</td>\n",
       "      <td>4</td>\n",
       "      <td>1</td>\n",
       "      <td>4</td>\n",
       "      <td>6</td>\n",
       "      <td>4</td>\n",
       "      <td>...</td>\n",
       "      <td>4</td>\n",
       "      <td>2</td>\n",
       "      <td>6</td>\n",
       "      <td>6</td>\n",
       "      <td>8</td>\n",
       "      <td>8</td>\n",
       "      <td>6</td>\n",
       "      <td>6</td>\n",
       "      <td>10</td>\n",
       "      <td>0.520</td>\n",
       "    </tr>\n",
       "    <tr>\n",
       "      <th>4</th>\n",
       "      <td>3</td>\n",
       "      <td>7</td>\n",
       "      <td>5</td>\n",
       "      <td>2</td>\n",
       "      <td>5</td>\n",
       "      <td>8</td>\n",
       "      <td>5</td>\n",
       "      <td>2</td>\n",
       "      <td>7</td>\n",
       "      <td>5</td>\n",
       "      <td>...</td>\n",
       "      <td>7</td>\n",
       "      <td>6</td>\n",
       "      <td>5</td>\n",
       "      <td>3</td>\n",
       "      <td>3</td>\n",
       "      <td>4</td>\n",
       "      <td>4</td>\n",
       "      <td>3</td>\n",
       "      <td>4</td>\n",
       "      <td>0.475</td>\n",
       "    </tr>\n",
       "  </tbody>\n",
       "</table>\n",
       "<p>5 rows × 21 columns</p>\n",
       "</div>"
      ],
      "text/plain": [
       "   MonsoonIntensity  TopographyDrainage  RiverManagement  Deforestation  \\\n",
       "0                 3                   8                6              6   \n",
       "1                 8                   4                5              7   \n",
       "2                 3                  10                4              1   \n",
       "3                 4                   4                2              7   \n",
       "4                 3                   7                5              2   \n",
       "\n",
       "   Urbanization  ClimateChange  DamsQuality  Siltation  AgriculturalPractices  \\\n",
       "0             4              4            6          2                      3   \n",
       "1             7              9            1          5                      5   \n",
       "2             7              5            4          7                      4   \n",
       "3             3              4            1          4                      6   \n",
       "4             5              8            5          2                      7   \n",
       "\n",
       "   Encroachments  ...  DrainageSystems  CoastalVulnerability  Landslides  \\\n",
       "0              2  ...               10                     7           4   \n",
       "1              4  ...                9                     2           6   \n",
       "2              9  ...                7                     4           4   \n",
       "3              4  ...                4                     2           6   \n",
       "4              5  ...                7                     6           5   \n",
       "\n",
       "   Watersheds  DeterioratingInfrastructure  PopulationScore  WetlandLoss  \\\n",
       "0           2                            3                4            3   \n",
       "1           2                            1                1            9   \n",
       "2           8                            6                1            8   \n",
       "3           6                            8                8            6   \n",
       "4           3                            3                4            4   \n",
       "\n",
       "   InadequatePlanning  PoliticalFactors  FloodProbability  \n",
       "0                   2                 6             0.450  \n",
       "1                   1                 3             0.475  \n",
       "2                   3                 6             0.515  \n",
       "3                   6                10             0.520  \n",
       "4                   3                 4             0.475  \n",
       "\n",
       "[5 rows x 21 columns]"
      ]
     },
     "execution_count": 3,
     "metadata": {},
     "output_type": "execute_result"
    }
   ],
   "source": [
    "data.head()"
   ]
  },
  {
   "cell_type": "code",
   "execution_count": 4,
   "metadata": {},
   "outputs": [
    {
     "name": "stdout",
     "output_type": "stream",
     "text": [
      "<class 'pandas.core.frame.DataFrame'>\n",
      "RangeIndex: 50000 entries, 0 to 49999\n",
      "Data columns (total 21 columns):\n",
      " #   Column                           Non-Null Count  Dtype  \n",
      "---  ------                           --------------  -----  \n",
      " 0   MonsoonIntensity                 50000 non-null  int64  \n",
      " 1   TopographyDrainage               50000 non-null  int64  \n",
      " 2   RiverManagement                  50000 non-null  int64  \n",
      " 3   Deforestation                    50000 non-null  int64  \n",
      " 4   Urbanization                     50000 non-null  int64  \n",
      " 5   ClimateChange                    50000 non-null  int64  \n",
      " 6   DamsQuality                      50000 non-null  int64  \n",
      " 7   Siltation                        50000 non-null  int64  \n",
      " 8   AgriculturalPractices            50000 non-null  int64  \n",
      " 9   Encroachments                    50000 non-null  int64  \n",
      " 10  IneffectiveDisasterPreparedness  50000 non-null  int64  \n",
      " 11  DrainageSystems                  50000 non-null  int64  \n",
      " 12  CoastalVulnerability             50000 non-null  int64  \n",
      " 13  Landslides                       50000 non-null  int64  \n",
      " 14  Watersheds                       50000 non-null  int64  \n",
      " 15  DeterioratingInfrastructure      50000 non-null  int64  \n",
      " 16  PopulationScore                  50000 non-null  int64  \n",
      " 17  WetlandLoss                      50000 non-null  int64  \n",
      " 18  InadequatePlanning               50000 non-null  int64  \n",
      " 19  PoliticalFactors                 50000 non-null  int64  \n",
      " 20  FloodProbability                 50000 non-null  float64\n",
      "dtypes: float64(1), int64(20)\n",
      "memory usage: 8.0 MB\n"
     ]
    }
   ],
   "source": [
    "data.info()"
   ]
  },
  {
   "cell_type": "code",
   "execution_count": 7,
   "metadata": {},
   "outputs": [
    {
     "data": {
      "text/plain": [
       "MonsoonIntensity                   0\n",
       "TopographyDrainage                 0\n",
       "RiverManagement                    0\n",
       "Deforestation                      0\n",
       "Urbanization                       0\n",
       "ClimateChange                      0\n",
       "DamsQuality                        0\n",
       "Siltation                          0\n",
       "AgriculturalPractices              0\n",
       "Encroachments                      0\n",
       "IneffectiveDisasterPreparedness    0\n",
       "DrainageSystems                    0\n",
       "CoastalVulnerability               0\n",
       "Landslides                         0\n",
       "Watersheds                         0\n",
       "DeterioratingInfrastructure        0\n",
       "PopulationScore                    0\n",
       "WetlandLoss                        0\n",
       "InadequatePlanning                 0\n",
       "PoliticalFactors                   0\n",
       "FloodProbability                   0\n",
       "dtype: int64"
      ]
     },
     "execution_count": 7,
     "metadata": {},
     "output_type": "execute_result"
    }
   ],
   "source": [
    "data.isnull().sum()"
   ]
  },
  {
   "cell_type": "code",
   "execution_count": 8,
   "metadata": {},
   "outputs": [],
   "source": [
    "X = data.drop(['FloodProbability'], axis=1)  \n",
    "y = data['FloodProbability']  "
   ]
  },
  {
   "cell_type": "code",
   "execution_count": 9,
   "metadata": {},
   "outputs": [
    {
     "name": "stdout",
     "output_type": "stream",
     "text": [
      "Index(['MonsoonIntensity', 'TopographyDrainage', 'RiverManagement',\n",
      "       'Deforestation', 'Urbanization', 'ClimateChange', 'DamsQuality',\n",
      "       'Siltation', 'AgriculturalPractices', 'Encroachments',\n",
      "       'IneffectiveDisasterPreparedness', 'DrainageSystems',\n",
      "       'CoastalVulnerability', 'Landslides', 'Watersheds',\n",
      "       'DeterioratingInfrastructure', 'PopulationScore', 'WetlandLoss',\n",
      "       'InadequatePlanning', 'PoliticalFactors'],\n",
      "      dtype='object')\n",
      "Index([], dtype='object')\n"
     ]
    }
   ],
   "source": [
    "numeric_cols = X.select_dtypes(include=['int64', 'float64']).columns\n",
    "categorical_cols = X.select_dtypes(include=['object']).columns\n",
    "print(numeric_cols)\n",
    "print(categorical_cols)"
   ]
  },
  {
   "cell_type": "code",
   "execution_count": null,
   "metadata": {},
   "outputs": [
    {
     "name": "stdout",
     "output_type": "stream",
     "text": [
      "Selected features: ['MonsoonIntensity', 'TopographyDrainage', 'RiverManagement', 'DamsQuality', 'Siltation', 'IneffectiveDisasterPreparedness', 'Watersheds', 'DeterioratingInfrastructure', 'PopulationScore', 'PoliticalFactors']\n",
      "Selected features shape: (50000, 10)\n"
     ]
    }
   ],
   "source": [
    "from sklearn.feature_selection import SelectKBest, f_regression\n",
    "\n",
    "selector = SelectKBest(f_regression, k=10)\n",
    "\n",
    "X_new = selector.fit_transform(X, y)\n",
    "\n",
    "selected_features_mask = selector.get_support()\n",
    "\n",
    "selected_feature_names = X.columns[selected_features_mask]\n",
    "\n",
    "print(\"Selected features:\", selected_feature_names.tolist())\n",
    "print(\"Selected features shape:\", X_new.shape)\n"
   ]
  },
  {
   "cell_type": "code",
   "execution_count": null,
   "metadata": {},
   "outputs": [
    {
     "name": "stdout",
     "output_type": "stream",
     "text": [
      "Mean Squared Error for Decision Tree Regressor: 0.0030125675\n",
      "Mean Squared Error for Random Forest Regressor: 0.001369261178861389\n",
      "Mean Squared Error for Linear Regression: 0.0012435752785133311\n"
     ]
    }
   ],
   "source": [
    "X_train, X_test, y_train, y_test = train_test_split(X_new, y, test_size=0.2, random_state=42)\n",
    "\n",
    "dt_model = DecisionTreeRegressor(random_state=42)\n",
    "rf_model = RandomForestRegressor(random_state=42)\n",
    "lr_model = LinearRegression()\n",
    "\n",
    "dt_model.fit(X_train, y_train)\n",
    "dt_predictions = dt_model.predict(X_test)\n",
    "dt_mse = mean_squared_error(y_test, dt_predictions)\n",
    "\n",
    "rf_model.fit(X_train, y_train)\n",
    "rf_predictions = rf_model.predict(X_test)\n",
    "rf_mse = mean_squared_error(y_test, rf_predictions)\n",
    "\n",
    "lr_model.fit(X_train, y_train)\n",
    "lr_predictions = lr_model.predict(X_test)\n",
    "lr_mse = mean_squared_error(y_test, lr_predictions)\n",
    "\n",
    "print(\"Mean Squared Error for Decision Tree Regressor:\", dt_mse)\n",
    "print(\"Mean Squared Error for Random Forest Regressor:\", rf_mse)\n",
    "print(\"Mean Squared Error for Linear Regression:\", lr_mse)"
   ]
  },
  {
   "cell_type": "code",
   "execution_count": 15,
   "metadata": {},
   "outputs": [],
   "source": [
    "import pickle\n",
    "\n",
    "with open('lrF.pkl', 'wb') as lr_file:\n",
    "    pickle.dump(lr_model, lr_file)"
   ]
  }
 ],
 "metadata": {
  "kernelspec": {
   "display_name": "qualityenv",
   "language": "python",
   "name": "python3"
  },
  "language_info": {
   "codemirror_mode": {
    "name": "ipython",
    "version": 3
   },
   "file_extension": ".py",
   "mimetype": "text/x-python",
   "name": "python",
   "nbconvert_exporter": "python",
   "pygments_lexer": "ipython3",
   "version": "3.8.19"
  }
 },
 "nbformat": 4,
 "nbformat_minor": 2
}
