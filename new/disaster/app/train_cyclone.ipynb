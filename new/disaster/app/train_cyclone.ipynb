{
 "cells": [
  {
   "cell_type": "code",
   "execution_count": 19,
   "metadata": {},
   "outputs": [],
   "source": [
    "import pandas as pd\n",
    "from sklearn.model_selection import train_test_split\n",
    "from sklearn.preprocessing import StandardScaler, OneHotEncoder\n",
    "from sklearn.compose import ColumnTransformer\n",
    "from sklearn.pipeline import Pipeline\n",
    "from sklearn.feature_selection import SelectKBest, chi2\n",
    "from sklearn.metrics import accuracy_score, classification_report, confusion_matrix\n",
    "import matplotlib.pyplot as plt\n",
    "from sklearn.preprocessing import LabelEncoder\n",
    "from sklearn.metrics import accuracy_score, precision_score, recall_score, f1_score, confusion_matrix\n",
    "import seaborn as sns\n",
    "from imblearn.over_sampling import SMOTE\n",
    "from sklearn.metrics import mean_squared_error\n",
    "from sklearn.ensemble import RandomForestClassifier\n",
    "from sklearn.model_selection import train_test_split\n",
    "from sklearn.metrics import accuracy_score, precision_score, recall_score, f1_score, classification_report, confusion_matrix\n",
    "\n",
    "# Load the dataset\n",
    "data = pd.read_csv('pacific.csv')\n",
    "\n"
   ]
  },
  {
   "cell_type": "code",
   "execution_count": 20,
   "metadata": {},
   "outputs": [
    {
     "data": {
      "text/html": [
       "<div>\n",
       "<style scoped>\n",
       "    .dataframe tbody tr th:only-of-type {\n",
       "        vertical-align: middle;\n",
       "    }\n",
       "\n",
       "    .dataframe tbody tr th {\n",
       "        vertical-align: top;\n",
       "    }\n",
       "\n",
       "    .dataframe thead th {\n",
       "        text-align: right;\n",
       "    }\n",
       "</style>\n",
       "<table border=\"1\" class=\"dataframe\">\n",
       "  <thead>\n",
       "    <tr style=\"text-align: right;\">\n",
       "      <th></th>\n",
       "      <th>ID</th>\n",
       "      <th>Name</th>\n",
       "      <th>Date</th>\n",
       "      <th>Time</th>\n",
       "      <th>Event</th>\n",
       "      <th>Status</th>\n",
       "      <th>Latitude</th>\n",
       "      <th>Longitude</th>\n",
       "      <th>Maximum Wind</th>\n",
       "      <th>Minimum Pressure</th>\n",
       "      <th>...</th>\n",
       "      <th>Low Wind SW</th>\n",
       "      <th>Low Wind NW</th>\n",
       "      <th>Moderate Wind NE</th>\n",
       "      <th>Moderate Wind SE</th>\n",
       "      <th>Moderate Wind SW</th>\n",
       "      <th>Moderate Wind NW</th>\n",
       "      <th>High Wind NE</th>\n",
       "      <th>High Wind SE</th>\n",
       "      <th>High Wind SW</th>\n",
       "      <th>High Wind NW</th>\n",
       "    </tr>\n",
       "  </thead>\n",
       "  <tbody>\n",
       "    <tr>\n",
       "      <th>0</th>\n",
       "      <td>EP011949</td>\n",
       "      <td>UNNAMED</td>\n",
       "      <td>19490611</td>\n",
       "      <td>0</td>\n",
       "      <td></td>\n",
       "      <td>TS</td>\n",
       "      <td>20.2N</td>\n",
       "      <td>106.3W</td>\n",
       "      <td>45</td>\n",
       "      <td>-999</td>\n",
       "      <td>...</td>\n",
       "      <td>-999</td>\n",
       "      <td>-999</td>\n",
       "      <td>-999</td>\n",
       "      <td>-999</td>\n",
       "      <td>-999</td>\n",
       "      <td>-999</td>\n",
       "      <td>-999</td>\n",
       "      <td>-999</td>\n",
       "      <td>-999</td>\n",
       "      <td>-999</td>\n",
       "    </tr>\n",
       "    <tr>\n",
       "      <th>1</th>\n",
       "      <td>EP011949</td>\n",
       "      <td>UNNAMED</td>\n",
       "      <td>19490611</td>\n",
       "      <td>600</td>\n",
       "      <td></td>\n",
       "      <td>TS</td>\n",
       "      <td>20.2N</td>\n",
       "      <td>106.4W</td>\n",
       "      <td>45</td>\n",
       "      <td>-999</td>\n",
       "      <td>...</td>\n",
       "      <td>-999</td>\n",
       "      <td>-999</td>\n",
       "      <td>-999</td>\n",
       "      <td>-999</td>\n",
       "      <td>-999</td>\n",
       "      <td>-999</td>\n",
       "      <td>-999</td>\n",
       "      <td>-999</td>\n",
       "      <td>-999</td>\n",
       "      <td>-999</td>\n",
       "    </tr>\n",
       "    <tr>\n",
       "      <th>2</th>\n",
       "      <td>EP011949</td>\n",
       "      <td>UNNAMED</td>\n",
       "      <td>19490611</td>\n",
       "      <td>1200</td>\n",
       "      <td></td>\n",
       "      <td>TS</td>\n",
       "      <td>20.2N</td>\n",
       "      <td>106.7W</td>\n",
       "      <td>45</td>\n",
       "      <td>-999</td>\n",
       "      <td>...</td>\n",
       "      <td>-999</td>\n",
       "      <td>-999</td>\n",
       "      <td>-999</td>\n",
       "      <td>-999</td>\n",
       "      <td>-999</td>\n",
       "      <td>-999</td>\n",
       "      <td>-999</td>\n",
       "      <td>-999</td>\n",
       "      <td>-999</td>\n",
       "      <td>-999</td>\n",
       "    </tr>\n",
       "    <tr>\n",
       "      <th>3</th>\n",
       "      <td>EP011949</td>\n",
       "      <td>UNNAMED</td>\n",
       "      <td>19490611</td>\n",
       "      <td>1800</td>\n",
       "      <td></td>\n",
       "      <td>TS</td>\n",
       "      <td>20.3N</td>\n",
       "      <td>107.7W</td>\n",
       "      <td>45</td>\n",
       "      <td>-999</td>\n",
       "      <td>...</td>\n",
       "      <td>-999</td>\n",
       "      <td>-999</td>\n",
       "      <td>-999</td>\n",
       "      <td>-999</td>\n",
       "      <td>-999</td>\n",
       "      <td>-999</td>\n",
       "      <td>-999</td>\n",
       "      <td>-999</td>\n",
       "      <td>-999</td>\n",
       "      <td>-999</td>\n",
       "    </tr>\n",
       "    <tr>\n",
       "      <th>4</th>\n",
       "      <td>EP011949</td>\n",
       "      <td>UNNAMED</td>\n",
       "      <td>19490612</td>\n",
       "      <td>0</td>\n",
       "      <td></td>\n",
       "      <td>TS</td>\n",
       "      <td>20.4N</td>\n",
       "      <td>108.6W</td>\n",
       "      <td>45</td>\n",
       "      <td>-999</td>\n",
       "      <td>...</td>\n",
       "      <td>-999</td>\n",
       "      <td>-999</td>\n",
       "      <td>-999</td>\n",
       "      <td>-999</td>\n",
       "      <td>-999</td>\n",
       "      <td>-999</td>\n",
       "      <td>-999</td>\n",
       "      <td>-999</td>\n",
       "      <td>-999</td>\n",
       "      <td>-999</td>\n",
       "    </tr>\n",
       "  </tbody>\n",
       "</table>\n",
       "<p>5 rows × 22 columns</p>\n",
       "</div>"
      ],
      "text/plain": [
       "         ID                 Name      Date  Time Event Status Latitude  \\\n",
       "0  EP011949              UNNAMED  19490611     0           TS    20.2N   \n",
       "1  EP011949              UNNAMED  19490611   600           TS    20.2N   \n",
       "2  EP011949              UNNAMED  19490611  1200           TS    20.2N   \n",
       "3  EP011949              UNNAMED  19490611  1800           TS    20.3N   \n",
       "4  EP011949              UNNAMED  19490612     0           TS    20.4N   \n",
       "\n",
       "  Longitude  Maximum Wind  Minimum Pressure  ...  Low Wind SW  Low Wind NW  \\\n",
       "0    106.3W            45              -999  ...         -999         -999   \n",
       "1    106.4W            45              -999  ...         -999         -999   \n",
       "2    106.7W            45              -999  ...         -999         -999   \n",
       "3    107.7W            45              -999  ...         -999         -999   \n",
       "4    108.6W            45              -999  ...         -999         -999   \n",
       "\n",
       "   Moderate Wind NE  Moderate Wind SE  Moderate Wind SW  Moderate Wind NW  \\\n",
       "0              -999              -999              -999              -999   \n",
       "1              -999              -999              -999              -999   \n",
       "2              -999              -999              -999              -999   \n",
       "3              -999              -999              -999              -999   \n",
       "4              -999              -999              -999              -999   \n",
       "\n",
       "   High Wind NE  High Wind SE  High Wind SW  High Wind NW  \n",
       "0          -999          -999          -999          -999  \n",
       "1          -999          -999          -999          -999  \n",
       "2          -999          -999          -999          -999  \n",
       "3          -999          -999          -999          -999  \n",
       "4          -999          -999          -999          -999  \n",
       "\n",
       "[5 rows x 22 columns]"
      ]
     },
     "execution_count": 20,
     "metadata": {},
     "output_type": "execute_result"
    }
   ],
   "source": [
    "data.head()"
   ]
  },
  {
   "cell_type": "code",
   "execution_count": 21,
   "metadata": {},
   "outputs": [
    {
     "data": {
      "text/plain": [
       "(26137, 22)"
      ]
     },
     "execution_count": 21,
     "metadata": {},
     "output_type": "execute_result"
    }
   ],
   "source": [
    "data.shape\n"
   ]
  },
  {
   "cell_type": "code",
   "execution_count": 22,
   "metadata": {},
   "outputs": [
    {
     "name": "stdout",
     "output_type": "stream",
     "text": [
      "<class 'pandas.core.frame.DataFrame'>\n",
      "RangeIndex: 26137 entries, 0 to 26136\n",
      "Data columns (total 22 columns):\n",
      " #   Column            Non-Null Count  Dtype \n",
      "---  ------            --------------  ----- \n",
      " 0   ID                26137 non-null  object\n",
      " 1   Name              26137 non-null  object\n",
      " 2   Date              26137 non-null  int64 \n",
      " 3   Time              26137 non-null  int64 \n",
      " 4   Event             26137 non-null  object\n",
      " 5   Status            26137 non-null  object\n",
      " 6   Latitude          26137 non-null  object\n",
      " 7   Longitude         26137 non-null  object\n",
      " 8   Maximum Wind      26137 non-null  int64 \n",
      " 9   Minimum Pressure  26137 non-null  int64 \n",
      " 10  Low Wind NE       26137 non-null  int64 \n",
      " 11  Low Wind SE       26137 non-null  int64 \n",
      " 12  Low Wind SW       26137 non-null  int64 \n",
      " 13  Low Wind NW       26137 non-null  int64 \n",
      " 14  Moderate Wind NE  26137 non-null  int64 \n",
      " 15  Moderate Wind SE  26137 non-null  int64 \n",
      " 16  Moderate Wind SW  26137 non-null  int64 \n",
      " 17  Moderate Wind NW  26137 non-null  int64 \n",
      " 18  High Wind NE      26137 non-null  int64 \n",
      " 19  High Wind SE      26137 non-null  int64 \n",
      " 20  High Wind SW      26137 non-null  int64 \n",
      " 21  High Wind NW      26137 non-null  int64 \n",
      "dtypes: int64(16), object(6)\n",
      "memory usage: 4.4+ MB\n"
     ]
    }
   ],
   "source": [
    "data.info()"
   ]
  },
  {
   "cell_type": "code",
   "execution_count": 23,
   "metadata": {},
   "outputs": [
    {
     "data": {
      "text/plain": [
       "Status\n",
       " TS     10076\n",
       " TD      6965\n",
       " HU      6765\n",
       " LO      1828\n",
       " DB       217\n",
       " ET       152\n",
       " EX       110\n",
       " SS         7\n",
       " PT         6\n",
       " ST         6\n",
       " SD         4\n",
       " HU         1\n",
       "Name: count, dtype: int64"
      ]
     },
     "execution_count": 23,
     "metadata": {},
     "output_type": "execute_result"
    }
   ],
   "source": [
    "data['Status'].value_counts()"
   ]
  },
  {
   "cell_type": "code",
   "execution_count": 24,
   "metadata": {},
   "outputs": [
    {
     "data": {
      "text/plain": [
       "ID                  0\n",
       "Name                0\n",
       "Date                0\n",
       "Time                0\n",
       "Event               0\n",
       "Status              0\n",
       "Latitude            0\n",
       "Longitude           0\n",
       "Maximum Wind        0\n",
       "Minimum Pressure    0\n",
       "Low Wind NE         0\n",
       "Low Wind SE         0\n",
       "Low Wind SW         0\n",
       "Low Wind NW         0\n",
       "Moderate Wind NE    0\n",
       "Moderate Wind SE    0\n",
       "Moderate Wind SW    0\n",
       "Moderate Wind NW    0\n",
       "High Wind NE        0\n",
       "High Wind SE        0\n",
       "High Wind SW        0\n",
       "High Wind NW        0\n",
       "dtype: int64"
      ]
     },
     "execution_count": 24,
     "metadata": {},
     "output_type": "execute_result"
    }
   ],
   "source": [
    "data.isnull().sum()"
   ]
  },
  {
   "cell_type": "code",
   "execution_count": 25,
   "metadata": {},
   "outputs": [
    {
     "name": "stdout",
     "output_type": "stream",
     "text": [
      "         ID                 Name      Date  Time Event Status Latitude  \\\n",
      "0  EP011949              UNNAMED  19490611     0           TS    20.2N   \n",
      "1  EP011949              UNNAMED  19490611   600           TS    20.2N   \n",
      "2  EP011949              UNNAMED  19490611  1200           TS    20.2N   \n",
      "3  EP011949              UNNAMED  19490611  1800           TS    20.3N   \n",
      "4  EP011949              UNNAMED  19490612     0           TS    20.4N   \n",
      "\n",
      "  Longitude  Maximum Wind  Minimum Pressure  ...  Low Wind SW  Low Wind NW  \\\n",
      "0    106.3W            45              -999  ...         -999         -999   \n",
      "1    106.4W            45              -999  ...         -999         -999   \n",
      "2    106.7W            45              -999  ...         -999         -999   \n",
      "3    107.7W            45              -999  ...         -999         -999   \n",
      "4    108.6W            45              -999  ...         -999         -999   \n",
      "\n",
      "   Moderate Wind NE  Moderate Wind SE  Moderate Wind SW  Moderate Wind NW  \\\n",
      "0              -999              -999              -999              -999   \n",
      "1              -999              -999              -999              -999   \n",
      "2              -999              -999              -999              -999   \n",
      "3              -999              -999              -999              -999   \n",
      "4              -999              -999              -999              -999   \n",
      "\n",
      "   High Wind NE  High Wind SE  High Wind SW  High Wind NW  \n",
      "0          -999          -999          -999          -999  \n",
      "1          -999          -999          -999          -999  \n",
      "2          -999          -999          -999          -999  \n",
      "3          -999          -999          -999          -999  \n",
      "4          -999          -999          -999          -999  \n",
      "\n",
      "[5 rows x 22 columns]\n"
     ]
    }
   ],
   "source": [
    "# Filter the dataset for specific 'Status' values\n",
    "data = data[data['Status'].isin([' TD', ' TS', ' EX'])]\n",
    "\n",
    "# Display the filtered data\n",
    "print(data.head())\n"
   ]
  },
  {
   "cell_type": "code",
   "execution_count": 26,
   "metadata": {},
   "outputs": [],
   "source": [
    "data=data.dropna()"
   ]
  },
  {
   "cell_type": "code",
   "execution_count": 27,
   "metadata": {},
   "outputs": [],
   "source": [
    "data=data.drop('Name',axis=1)\n",
    "data=data.drop('Date',axis=1)"
   ]
  },
  {
   "cell_type": "code",
   "execution_count": 28,
   "metadata": {},
   "outputs": [],
   "source": [
    "\n",
    "X = data.drop(['Status'], axis=1)  \n",
    "y = data['Status']  "
   ]
  },
  {
   "cell_type": "code",
   "execution_count": 29,
   "metadata": {},
   "outputs": [
    {
     "data": {
      "text/plain": [
       "(17151, 19)"
      ]
     },
     "execution_count": 29,
     "metadata": {},
     "output_type": "execute_result"
    }
   ],
   "source": [
    "X.shape"
   ]
  },
  {
   "cell_type": "code",
   "execution_count": 30,
   "metadata": {},
   "outputs": [
    {
     "data": {
      "text/plain": [
       "Status\n",
       " TS    10076\n",
       " TD     6965\n",
       " EX      110\n",
       "Name: count, dtype: int64"
      ]
     },
     "execution_count": 30,
     "metadata": {},
     "output_type": "execute_result"
    }
   ],
   "source": [
    "y.value_counts()"
   ]
  },
  {
   "cell_type": "code",
   "execution_count": 31,
   "metadata": {},
   "outputs": [
    {
     "name": "stdout",
     "output_type": "stream",
     "text": [
      "Index(['Time', 'Maximum Wind', 'Minimum Pressure', 'Low Wind NE',\n",
      "       'Low Wind SE', 'Low Wind SW', 'Low Wind NW', 'Moderate Wind NE',\n",
      "       'Moderate Wind SE', 'Moderate Wind SW', 'Moderate Wind NW',\n",
      "       'High Wind NE', 'High Wind SE', 'High Wind SW', 'High Wind NW'],\n",
      "      dtype='object')\n",
      "Index(['ID', 'Event', 'Latitude', 'Longitude'], dtype='object')\n"
     ]
    }
   ],
   "source": [
    "numeric_cols = X.select_dtypes(include=['int64', 'float64']).columns\n",
    "categorical_cols = X.select_dtypes(include=['object']).columns\n",
    "print(numeric_cols)\n",
    "print(categorical_cols)"
   ]
  },
  {
   "cell_type": "code",
   "execution_count": 32,
   "metadata": {},
   "outputs": [
    {
     "name": "stdout",
     "output_type": "stream",
     "text": [
      "0        20.2N\n",
      "1        20.2N\n",
      "2        20.2N\n",
      "3        20.3N\n",
      "4        20.4N\n",
      "         ...  \n",
      "26115    10.9N\n",
      "26116    11.2N\n",
      "26117    11.5N\n",
      "26118    11.8N\n",
      "26130    20.7N\n",
      "Name: Latitude, Length: 17151, dtype: object\n"
     ]
    }
   ],
   "source": [
    "print(X['Latitude'])"
   ]
  },
  {
   "cell_type": "code",
   "execution_count": 33,
   "metadata": {},
   "outputs": [],
   "source": [
    "X['Latitude'] = X['Latitude'].str.replace(r'[NSEW]', '', regex=True).astype(float)\n",
    "X['Longitude'] = X['Longitude'].str.replace(r'[NSEW]', '', regex=True).astype(float)\n",
    "\n"
   ]
  },
  {
   "cell_type": "code",
   "execution_count": 34,
   "metadata": {},
   "outputs": [],
   "source": [
    "categorical_cols = X.select_dtypes(include=['object']).columns"
   ]
  },
  {
   "cell_type": "code",
   "execution_count": 35,
   "metadata": {},
   "outputs": [
    {
     "name": "stdout",
     "output_type": "stream",
     "text": [
      "Label encoders saved successfully.\n"
     ]
    }
   ],
   "source": [
    "import pickle\n",
    "\n",
    "# Dictionary to store label encoders for each categorical column\n",
    "label_encoders = {}\n",
    "\n",
    "# Apply LabelEncoder to each categorical column and save the encoder\n",
    "for col in categorical_cols:\n",
    "    le = LabelEncoder()\n",
    "    X[col] = le.fit_transform(X[col])\n",
    "    label_encoders[col] = le  # Save the encoder for the column\n",
    "\n",
    "# Save the encoders to a file\n",
    "with open('label_encoderC.pkl', 'wb') as file:\n",
    "    pickle.dump(label_encoders, file)\n",
    "\n",
    "print(\"Label encoders saved successfully.\")\n"
   ]
  },
  {
   "cell_type": "code",
   "execution_count": 36,
   "metadata": {},
   "outputs": [
    {
     "name": "stdout",
     "output_type": "stream",
     "text": [
      "[1.58635076e+01 1.34918231e-01 2.67702827e-01 7.68877625e+02\n",
      " 3.89649689e+01 1.71641537e+04 2.97267469e+00 4.07520180e+01\n",
      " 3.84931303e+01 3.52896445e+01 3.87454176e+01 2.91085262e+01\n",
      " 2.85887683e+01 2.79539567e+01 2.84936013e+01 2.69032897e+01\n",
      " 2.69012633e+01 2.69012633e+01 2.69012633e+01]\n",
      "Selected Feature Names: ['Latitude', 'Longitude', 'Maximum Wind', 'Low Wind NE', 'Low Wind SE', 'Low Wind SW', 'Low Wind NW', 'Moderate Wind NE', 'Moderate Wind SE', 'Moderate Wind NW']\n"
     ]
    }
   ],
   "source": [
    "from sklearn.feature_selection import SelectKBest, f_classif\n",
    "\n",
    "# Apply SelectKBest with ANOVA F-value as the scoring function\n",
    "selector = SelectKBest(score_func=f_classif, k=10)\n",
    "X_selected = selector.fit_transform(X, y)\n",
    "\n",
    "# Get feature scores and names\n",
    "feature_scores = selector.scores_\n",
    "print(feature_scores)\n",
    "\n",
    "# Get the mask of selected features\n",
    "selected_mask = selector.get_support()\n",
    "\n",
    "# Get the names of selected columns\n",
    "selected_columns = X.columns[selected_mask]\n",
    "print(\"Selected Feature Names:\", selected_columns.tolist())\n"
   ]
  },
  {
   "cell_type": "code",
   "execution_count": 37,
   "metadata": {},
   "outputs": [
    {
     "name": "stdout",
     "output_type": "stream",
     "text": [
      "Scaler saved successfully.\n"
     ]
    }
   ],
   "source": [
    "from sklearn.preprocessing import MinMaxScaler\n",
    "\n",
    "scaler = MinMaxScaler()\n",
    "X_scaled = scaler.fit_transform(X_selected)\n",
    "\n",
    "with open('minmax_scalerC.pkl', 'wb') as file:\n",
    "    pickle.dump(scaler, file)\n",
    "\n",
    "print(\"Scaler saved successfully.\")\n"
   ]
  },
  {
   "cell_type": "code",
   "execution_count": null,
   "metadata": {},
   "outputs": [
    {
     "name": "stdout",
     "output_type": "stream",
     "text": [
      "Class distribution after SMOTE:\n",
      "Status\n",
      " TS    10076\n",
      " TD    10076\n",
      " EX    10076\n",
      "Name: count, dtype: int64\n"
     ]
    }
   ],
   "source": [
    "smote = SMOTE(random_state=42)\n",
    "X_resampled, y_resampled = smote.fit_resample(X_scaled, y)\n",
    "\n",
    "print(\"Class distribution after SMOTE:\")\n",
    "print(y_resampled.value_counts())\n"
   ]
  },
  {
   "cell_type": "code",
   "execution_count": 39,
   "metadata": {},
   "outputs": [],
   "source": [
    "X_train, X_test, y_train, y_test = train_test_split(X_resampled, y_resampled, test_size=0.2, random_state=42)\n"
   ]
  },
  {
   "cell_type": "code",
   "execution_count": 40,
   "metadata": {},
   "outputs": [],
   "source": [
    "import seaborn as sns\n",
    "import matplotlib.pyplot as plt\n",
    "from sklearn.metrics import confusion_matrix\n",
    "\n",
    "\n",
    "\n",
    "# Assuming the target variable is named 'Status'\n",
    "class_names = ['TD','TS','EX']\n",
    "\n",
    "# Function to plot confusion matrix as a heatmap using class names from LabelEncoder\n",
    "def plot_confusion_matrix(y_true, y_pred, title):\n",
    "    cm = confusion_matrix(y_true, y_pred)\n",
    "    plt.figure(figsize=(8, 6))\n",
    "    sns.heatmap(cm, annot=True, fmt='d', cmap='Blues', cbar=False, \n",
    "                xticklabels=class_names,\n",
    "                yticklabels=class_names)\n",
    "    plt.title(title)\n",
    "    plt.xlabel('Predicted labels')\n",
    "    plt.ylabel('True labels')\n",
    "    plt.show()\n",
    "\n"
   ]
  },
  {
   "cell_type": "code",
   "execution_count": 41,
   "metadata": {},
   "outputs": [
    {
     "name": "stdout",
     "output_type": "stream",
     "text": [
      "Random Forest Classifier:\n",
      "Accuracy: 0.9920608666887198\n",
      "Precision: 0.9920742894893969\n",
      "Recall: 0.9920608666887198\n",
      "F1 Score: 0.9920648439856841\n",
      "\n",
      "Classification Report:\n",
      "               precision    recall  f1-score   support\n",
      "\n",
      "          EX       0.99      0.99      0.99      2017\n",
      "          TD       1.00      0.99      1.00      2029\n",
      "          TS       0.99      0.99      0.99      2000\n",
      "\n",
      "    accuracy                           0.99      6046\n",
      "   macro avg       0.99      0.99      0.99      6046\n",
      "weighted avg       0.99      0.99      0.99      6046\n",
      "\n"
     ]
    },
    {
     "data": {
      "image/png": "[encoded data removed]",
      "text/plain": [
       "<Figure size 800x600 with 1 Axes>"
      ]
     },
     "metadata": {},
     "output_type": "display_data"
    }
   ],
   "source": [
    "\n",
    "# Initialize Random Forest model\n",
    "rf_model = RandomForestClassifier(random_state=42)\n",
    "rf_model.fit(X_train, y_train)\n",
    "\n",
    "# Predict on test set\n",
    "y_pred_rf = rf_model.predict(X_test)\n",
    "\n",
    "# Evaluate Random Forest\n",
    "print(\"Random Forest Classifier:\")\n",
    "print(\"Accuracy:\", accuracy_score(y_test, y_pred_rf))\n",
    "print(\"Precision:\", precision_score(y_test, y_pred_rf, average='weighted'))\n",
    "print(\"Recall:\", recall_score(y_test, y_pred_rf, average='weighted'))\n",
    "print(\"F1 Score:\", f1_score(y_test, y_pred_rf, average='weighted'))\n",
    "print(\"\\nClassification Report:\\n\", classification_report(y_test, y_pred_rf))\n",
    "plot_confusion_matrix(y_test, y_pred_rf, title=\"Random Forest Confusion Matrix\")"
   ]
  },
  {
   "cell_type": "code",
   "execution_count": 42,
   "metadata": {},
   "outputs": [
    {
     "name": "stdout",
     "output_type": "stream",
     "text": [
      "\n",
      "Logistic Regression:\n",
      "Accuracy: 0.8875289447568641\n",
      "Precision: 0.8873609665496278\n",
      "Recall: 0.8875289447568641\n",
      "F1 Score: 0.8870548490557754\n",
      "\n",
      "Classification Report:\n",
      "               precision    recall  f1-score   support\n",
      "\n",
      "          EX       0.85      0.82      0.84      2017\n",
      "          TD       0.89      0.94      0.91      2029\n",
      "          TS       0.92      0.90      0.91      2000\n",
      "\n",
      "    accuracy                           0.89      6046\n",
      "   macro avg       0.89      0.89      0.89      6046\n",
      "weighted avg       0.89      0.89      0.89      6046\n",
      "\n"
     ]
    },
    {
     "data": {
      "image/png": "[encoded data removed]",
      "text/plain": [
       "<Figure size 800x600 with 1 Axes>"
      ]
     },
     "metadata": {},
     "output_type": "display_data"
    }
   ],
   "source": [
    "# %% Train and evaluate Logistic Regression\n",
    "from sklearn.linear_model import LogisticRegression\n",
    "\n",
    "# Initialize Logistic Regression model\n",
    "lr_model = LogisticRegression(max_iter=1000, random_state=42)\n",
    "lr_model.fit(X_train, y_train)\n",
    "\n",
    "# Predict on test set\n",
    "y_pred_lr = lr_model.predict(X_test)\n",
    "\n",
    "# Evaluate Logistic Regression\n",
    "print(\"\\nLogistic Regression:\")\n",
    "print(\"Accuracy:\", accuracy_score(y_test, y_pred_lr))\n",
    "print(\"Precision:\", precision_score(y_test, y_pred_lr, average='weighted'))\n",
    "print(\"Recall:\", recall_score(y_test, y_pred_lr, average='weighted'))\n",
    "print(\"F1 Score:\", f1_score(y_test, y_pred_lr, average='weighted'))\n",
    "print(\"\\nClassification Report:\\n\", classification_report(y_test, y_pred_lr))\n",
    "plot_confusion_matrix(y_test, y_pred_rf, title=\"Logistic Regression Confusion Matrix\")\n"
   ]
  },
  {
   "cell_type": "code",
   "execution_count": 43,
   "metadata": {},
   "outputs": [
    {
     "name": "stdout",
     "output_type": "stream",
     "text": [
      "\n",
      "Decision Tree Classifier:\n",
      "Accuracy: 0.9905722791928547\n",
      "Precision: 0.9905738068140508\n",
      "Recall: 0.9905722791928547\n",
      "F1 Score: 0.990571903015928\n",
      "\n",
      "Classification Report:\n",
      "               precision    recall  f1-score   support\n",
      "\n",
      "          EX       0.99      0.99      0.99      2017\n",
      "          TD       1.00      1.00      1.00      2029\n",
      "          TS       0.99      0.99      0.99      2000\n",
      "\n",
      "    accuracy                           0.99      6046\n",
      "   macro avg       0.99      0.99      0.99      6046\n",
      "weighted avg       0.99      0.99      0.99      6046\n",
      "\n"
     ]
    },
    {
     "data": {
      "image/png": "[encoded data removed]",
      "text/plain": [
       "<Figure size 800x600 with 1 Axes>"
      ]
     },
     "metadata": {},
     "output_type": "display_data"
    }
   ],
   "source": [
    "# %% Train and evaluate Decision Tree\n",
    "from sklearn.tree import DecisionTreeClassifier\n",
    "\n",
    "# Initialize Decision Tree model\n",
    "dt_model = DecisionTreeClassifier(random_state=42)\n",
    "dt_model.fit(X_train, y_train)\n",
    "\n",
    "# Predict on test set\n",
    "y_pred_dt = dt_model.predict(X_test)\n",
    "\n",
    "# Evaluate Decision Tree\n",
    "print(\"\\nDecision Tree Classifier:\")\n",
    "print(\"Accuracy:\", accuracy_score(y_test, y_pred_dt))\n",
    "print(\"Precision:\", precision_score(y_test, y_pred_dt, average='weighted'))\n",
    "print(\"Recall:\", recall_score(y_test, y_pred_dt, average='weighted'))\n",
    "print(\"F1 Score:\", f1_score(y_test, y_pred_dt, average='weighted'))\n",
    "print(\"\\nClassification Report:\\n\", classification_report(y_test, y_pred_dt))\n",
    "plot_confusion_matrix(y_test, y_pred_rf, title=\"Decision Tree Confusion Matrix\")\n"
   ]
  },
  {
   "cell_type": "code",
   "execution_count": 44,
   "metadata": {},
   "outputs": [
    {
     "name": "stdout",
     "output_type": "stream",
     "text": [
      "Random Forest model saved successfully.\n"
     ]
    }
   ],
   "source": [
    "with open('rfmodelC.pkl', 'wb') as file:\n",
    "    pickle.dump(rf_model, file)\n",
    "\n",
    "print(\"Random Forest model saved successfully.\")"
   ]
  }
 ],
 "metadata": {
  "kernelspec": {
   "display_name": "qualityenv",
   "language": "python",
   "name": "python3"
  },
  "language_info": {
   "codemirror_mode": {
    "name": "ipython",
    "version": 3
   },
   "file_extension": ".py",
   "mimetype": "text/x-python",
   "name": "python",
   "nbconvert_exporter": "python",
   "pygments_lexer": "ipython3",
   "version": "3.8.19"
  }
 },
 "nbformat": 4,
 "nbformat_minor": 2
}
