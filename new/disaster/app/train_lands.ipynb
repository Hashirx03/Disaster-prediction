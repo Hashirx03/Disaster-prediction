{
 "cells": [
  {
   "cell_type": "code",
   "execution_count": null,
   "metadata": {},
   "outputs": [],
   "source": [
    "import pandas as pd\n",
    "from sklearn.model_selection import train_test_split\n",
    "from sklearn.preprocessing import StandardScaler, OneHotEncoder\n",
    "from sklearn.compose import ColumnTransformer\n",
    "from sklearn.pipeline import Pipeline\n",
    "from sklearn.feature_selection import SelectKBest, chi2\n",
    "from sklearn.metrics import accuracy_score, classification_report, confusion_matrix\n",
    "import matplotlib.pyplot as plt\n",
    "from sklearn.preprocessing import LabelEncoder\n",
    "from sklearn.metrics import accuracy_score, precision_score, recall_score, f1_score, confusion_matrix\n",
    "import seaborn as sns\n",
    "\n",
    "from sklearn.metrics import mean_squared_error\n",
    "\n",
    "# Load the dataset\n",
    "data = pd.read_csv('complete-data.csv')\n",
    "\n"
   ]
  },
  {
   "cell_type": "code",
   "execution_count": 40,
   "metadata": {},
   "outputs": [
    {
     "data": {
      "text/plain": [
       "(1212, 13)"
      ]
     },
     "execution_count": 40,
     "metadata": {},
     "output_type": "execute_result"
    }
   ],
   "source": [
    "data.shape"
   ]
  },
  {
   "cell_type": "code",
   "execution_count": 41,
   "metadata": {},
   "outputs": [
    {
     "data": {
      "text/plain": [
       "Landslide\n",
       "0    606\n",
       "1    606\n",
       "Name: count, dtype: int64"
      ]
     },
     "execution_count": 41,
     "metadata": {},
     "output_type": "execute_result"
    }
   ],
   "source": [
    "data['Landslide'].value_counts()"
   ]
  },
  {
   "cell_type": "code",
   "execution_count": 42,
   "metadata": {},
   "outputs": [
    {
     "data": {
      "text/html": [
       "<div>\n",
       "<style scoped>\n",
       "    .dataframe tbody tr th:only-of-type {\n",
       "        vertical-align: middle;\n",
       "    }\n",
       "\n",
       "    .dataframe tbody tr th {\n",
       "        vertical-align: top;\n",
       "    }\n",
       "\n",
       "    .dataframe thead th {\n",
       "        text-align: right;\n",
       "    }\n",
       "</style>\n",
       "<table border=\"1\" class=\"dataframe\">\n",
       "  <thead>\n",
       "    <tr style=\"text-align: right;\">\n",
       "      <th></th>\n",
       "      <th>Landslide</th>\n",
       "      <th>Aspect</th>\n",
       "      <th>Curvature</th>\n",
       "      <th>Earthquake</th>\n",
       "      <th>Elevation</th>\n",
       "      <th>Flow</th>\n",
       "      <th>Lithology</th>\n",
       "      <th>NDVI</th>\n",
       "      <th>NDWI</th>\n",
       "      <th>Plan</th>\n",
       "      <th>Precipitation</th>\n",
       "      <th>Profile</th>\n",
       "      <th>Slope</th>\n",
       "    </tr>\n",
       "  </thead>\n",
       "  <tbody>\n",
       "    <tr>\n",
       "      <th>0</th>\n",
       "      <td>0</td>\n",
       "      <td>3</td>\n",
       "      <td>3</td>\n",
       "      <td>2</td>\n",
       "      <td>2</td>\n",
       "      <td>2</td>\n",
       "      <td>1</td>\n",
       "      <td>4</td>\n",
       "      <td>2</td>\n",
       "      <td>2</td>\n",
       "      <td>3</td>\n",
       "      <td>3</td>\n",
       "      <td>2</td>\n",
       "    </tr>\n",
       "    <tr>\n",
       "      <th>1</th>\n",
       "      <td>0</td>\n",
       "      <td>1</td>\n",
       "      <td>5</td>\n",
       "      <td>2</td>\n",
       "      <td>3</td>\n",
       "      <td>1</td>\n",
       "      <td>1</td>\n",
       "      <td>4</td>\n",
       "      <td>2</td>\n",
       "      <td>5</td>\n",
       "      <td>5</td>\n",
       "      <td>2</td>\n",
       "      <td>2</td>\n",
       "    </tr>\n",
       "    <tr>\n",
       "      <th>2</th>\n",
       "      <td>0</td>\n",
       "      <td>3</td>\n",
       "      <td>4</td>\n",
       "      <td>3</td>\n",
       "      <td>2</td>\n",
       "      <td>2</td>\n",
       "      <td>4</td>\n",
       "      <td>3</td>\n",
       "      <td>2</td>\n",
       "      <td>4</td>\n",
       "      <td>5</td>\n",
       "      <td>2</td>\n",
       "      <td>2</td>\n",
       "    </tr>\n",
       "    <tr>\n",
       "      <th>3</th>\n",
       "      <td>0</td>\n",
       "      <td>1</td>\n",
       "      <td>3</td>\n",
       "      <td>3</td>\n",
       "      <td>3</td>\n",
       "      <td>5</td>\n",
       "      <td>1</td>\n",
       "      <td>2</td>\n",
       "      <td>4</td>\n",
       "      <td>3</td>\n",
       "      <td>5</td>\n",
       "      <td>3</td>\n",
       "      <td>3</td>\n",
       "    </tr>\n",
       "    <tr>\n",
       "      <th>4</th>\n",
       "      <td>0</td>\n",
       "      <td>5</td>\n",
       "      <td>4</td>\n",
       "      <td>2</td>\n",
       "      <td>1</td>\n",
       "      <td>4</td>\n",
       "      <td>1</td>\n",
       "      <td>2</td>\n",
       "      <td>4</td>\n",
       "      <td>3</td>\n",
       "      <td>3</td>\n",
       "      <td>1</td>\n",
       "      <td>4</td>\n",
       "    </tr>\n",
       "  </tbody>\n",
       "</table>\n",
       "</div>"
      ],
      "text/plain": [
       "   Landslide  Aspect  Curvature  Earthquake  Elevation  Flow  Lithology  NDVI  \\\n",
       "0          0       3          3           2          2     2          1     4   \n",
       "1          0       1          5           2          3     1          1     4   \n",
       "2          0       3          4           3          2     2          4     3   \n",
       "3          0       1          3           3          3     5          1     2   \n",
       "4          0       5          4           2          1     4          1     2   \n",
       "\n",
       "   NDWI  Plan  Precipitation  Profile  Slope  \n",
       "0     2     2              3        3      2  \n",
       "1     2     5              5        2      2  \n",
       "2     2     4              5        2      2  \n",
       "3     4     3              5        3      3  \n",
       "4     4     3              3        1      4  "
      ]
     },
     "execution_count": 42,
     "metadata": {},
     "output_type": "execute_result"
    }
   ],
   "source": [
    "data.head()"
   ]
  },
  {
   "cell_type": "code",
   "execution_count": 43,
   "metadata": {},
   "outputs": [
    {
     "name": "stdout",
     "output_type": "stream",
     "text": [
      "<class 'pandas.core.frame.DataFrame'>\n",
      "RangeIndex: 1212 entries, 0 to 1211\n",
      "Data columns (total 13 columns):\n",
      " #   Column         Non-Null Count  Dtype\n",
      "---  ------         --------------  -----\n",
      " 0   Landslide      1212 non-null   int64\n",
      " 1   Aspect         1212 non-null   int64\n",
      " 2   Curvature      1212 non-null   int64\n",
      " 3   Earthquake     1212 non-null   int64\n",
      " 4   Elevation      1212 non-null   int64\n",
      " 5   Flow           1212 non-null   int64\n",
      " 6   Lithology      1212 non-null   int64\n",
      " 7   NDVI           1212 non-null   int64\n",
      " 8   NDWI           1212 non-null   int64\n",
      " 9   Plan           1212 non-null   int64\n",
      " 10  Precipitation  1212 non-null   int64\n",
      " 11  Profile        1212 non-null   int64\n",
      " 12  Slope          1212 non-null   int64\n",
      "dtypes: int64(13)\n",
      "memory usage: 123.2 KB\n"
     ]
    }
   ],
   "source": [
    "data.info()"
   ]
  },
  {
   "cell_type": "code",
   "execution_count": 44,
   "metadata": {},
   "outputs": [],
   "source": [
    "\n",
    "X = data.drop(['Landslide'], axis=1)  \n",
    "y = data['Landslide']  "
   ]
  },
  {
   "cell_type": "code",
   "execution_count": 45,
   "metadata": {},
   "outputs": [
    {
     "name": "stdout",
     "output_type": "stream",
     "text": [
      "Original class distribution:\n",
      "Landslide\n",
      "0    606\n",
      "1    606\n",
      "Name: count, dtype: int64\n",
      "\n",
      "New class distribution after SMOTE:\n",
      "Landslide\n",
      "0    1000\n",
      "1    1000\n",
      "Name: count, dtype: int64\n"
     ]
    }
   ],
   "source": [
    "import pandas as pd\n",
    "from imblearn.over_sampling import SMOTE\n",
    "from sklearn.model_selection import train_test_split\n",
    "\n",
    "\n",
    "# Check original class distribution\n",
    "print(\"Original class distribution:\")\n",
    "print(y.value_counts())\n",
    "\n",
    "# Use SMOTE to balance the dataset\n",
    "smote = SMOTE(sampling_strategy={0: 1000, 1: 1000}, random_state=42)\n",
    "\n",
    "# Resample the data\n",
    "X_resampled, y_resampled = smote.fit_resample(X, y)\n",
    "\n",
    "# Convert the resampled data back to a DataFrame (optional)\n",
    "df_resampled = pd.DataFrame(X_resampled, columns=X.columns)\n",
    "df_resampled['Landslide'] = y_resampled\n",
    "\n",
    "# Check new class distribution\n",
    "print(\"\\nNew class distribution after SMOTE:\")\n",
    "print(y_resampled.value_counts())\n",
    "\n",
    "# Now you can use df_resampled for training your models\n"
   ]
  },
  {
   "cell_type": "code",
   "execution_count": 46,
   "metadata": {},
   "outputs": [
    {
     "name": "stdout",
     "output_type": "stream",
     "text": [
      "Index(['Aspect', 'Curvature', 'Earthquake', 'Elevation', 'Flow', 'Lithology',\n",
      "       'NDVI', 'NDWI', 'Plan', 'Precipitation', 'Profile', 'Slope'],\n",
      "      dtype='object')\n",
      "Index([], dtype='object')\n"
     ]
    }
   ],
   "source": [
    "numeric_cols = X.select_dtypes(include=['int64', 'float64']).columns\n",
    "categorical_cols = X.select_dtypes(include=['object']).columns\n",
    "print(numeric_cols)\n",
    "print(categorical_cols)"
   ]
  },
  {
   "cell_type": "code",
   "execution_count": 48,
   "metadata": {},
   "outputs": [
    {
     "name": "stdout",
     "output_type": "stream",
     "text": [
      "[ 0.44606414 27.42543709 17.29865125 31.93551124 65.44360902 20.18913271\n",
      " 14.95250042 42.59582401  8.80030206 90.61709493 26.00757337 17.40517082]\n"
     ]
    }
   ],
   "source": [
    "selector = SelectKBest(score_func=chi2, k=10)  \n",
    "X_selected = selector.fit_transform(X_resampled, y_resampled)\n",
    "\n",
    "# Step 5: Get feature scores and names\n",
    "feature_scores = selector.scores_\n",
    "print(feature_scores)"
   ]
  },
  {
   "cell_type": "code",
   "execution_count": 49,
   "metadata": {},
   "outputs": [
    {
     "name": "stdout",
     "output_type": "stream",
     "text": [
      "Index(['Curvature', 'Earthquake', 'Elevation', 'Flow', 'Lithology', 'NDVI',\n",
      "       'NDWI', 'Precipitation', 'Profile', 'Slope'],\n",
      "      dtype='object')\n"
     ]
    }
   ],
   "source": [
    "# Get indices of selected features\n",
    "selected_feature_indices = selector.get_support(indices=True)\n",
    "# Retrieve feature names for the selected features\n",
    "selected_feature = X.columns[selected_feature_indices]\n",
    "print(selected_feature)"
   ]
  },
  {
   "cell_type": "code",
   "execution_count": 56,
   "metadata": {},
   "outputs": [
    {
     "name": "stdout",
     "output_type": "stream",
     "text": [
      "Training Decision Tree with GridSearchCV...\n",
      "Decision Tree Results:\n",
      "Best Parameters: {'max_depth': 20, 'min_samples_leaf': 1, 'min_samples_split': 2}\n",
      "Accuracy: 0.8025\n",
      "Precision: 0.8039040154015402\n",
      "Recall: 0.8025\n",
      "F1 Score: 0.8025950759920225\n",
      "------------------------------\n"
     ]
    }
   ],
   "source": [
    "from sklearn.ensemble import RandomForestClassifier\n",
    "from sklearn.linear_model import LogisticRegression\n",
    "from sklearn.model_selection import GridSearchCV\n",
    "from sklearn.tree import DecisionTreeClassifier\n",
    "\n",
    "\n",
    "\n",
    "X_train, X_test, y_train, y_test = train_test_split(X_selected, y_resampled, test_size=0.2, random_state=42)\n",
    "\n",
    "print(\"Training Decision Tree with GridSearchCV...\")\n",
    "dt_param_grid = {\n",
    "    'max_depth': [None, 10, 20, 30],\n",
    "    'min_samples_split': [2, 5, 10],\n",
    "    'min_samples_leaf': [1, 2, 4]\n",
    "}\n",
    "dt_model = DecisionTreeClassifier(random_state=42)\n",
    "dt_grid_search = GridSearchCV(dt_model, dt_param_grid, cv=20, scoring='accuracy', n_jobs=-1)\n",
    "dt_grid_search.fit(X_train, y_train)\n",
    "\n",
    "# Best estimator after tuning\n",
    "best_dt_model = dt_grid_search.best_estimator_\n",
    "\n",
    "# Make predictions\n",
    "y_pred_dt = best_dt_model.predict(X_test)\n",
    "\n",
    "# Calculate evaluation metrics\n",
    "dt_accuracy = accuracy_score(y_test, y_pred_dt)\n",
    "dt_precision = precision_score(y_test, y_pred_dt, average='weighted')\n",
    "dt_recall = recall_score(y_test, y_pred_dt, average='weighted')\n",
    "dt_f1 = f1_score(y_test, y_pred_dt, average='weighted')\n",
    "dt_confusion_matrix = confusion_matrix(y_test, y_pred_dt)\n",
    "\n",
    "# Store results\n",
    "dt_results = {\n",
    "    'Best Parameters': dt_grid_search.best_params_,\n",
    "    'Accuracy': dt_accuracy,\n",
    "    'Precision': dt_precision,\n",
    "    'Recall': dt_recall,\n",
    "    'F1 Score': dt_f1,\n",
    "    'Confusion Matrix': dt_confusion_matrix\n",
    "}\n",
    "\n",
    "# Display Decision Tree results\n",
    "print(\"Decision Tree Results:\")\n",
    "print(f\"Best Parameters: {dt_results['Best Parameters']}\")\n",
    "print(f\"Accuracy: {dt_results['Accuracy']}\")\n",
    "print(f\"Precision: {dt_results['Precision']}\")\n",
    "print(f\"Recall: {dt_results['Recall']}\")\n",
    "print(f\"F1 Score: {dt_results['F1 Score']}\")\n",
    "print(\"-\" * 30)"
   ]
  },
  {
   "cell_type": "code",
   "execution_count": 57,
   "metadata": {},
   "outputs": [
    {
     "name": "stdout",
     "output_type": "stream",
     "text": [
      "Training Random Forest with GridSearchCV...\n",
      "Random Forest Results:\n",
      "Best Parameters: {'max_depth': None, 'min_samples_leaf': 1, 'min_samples_split': 2, 'n_estimators': 200}\n",
      "Accuracy: 0.88\n",
      "Precision: 0.8805041134255208\n",
      "Recall: 0.88\n",
      "F1 Score: 0.8800540486437793\n",
      "------------------------------\n"
     ]
    }
   ],
   "source": [
    "print(\"Training Random Forest with GridSearchCV...\")\n",
    "rf_param_grid = {\n",
    "    'n_estimators': [50, 100, 200],\n",
    "    'max_depth': [None, 10, 20, 30],\n",
    "    'min_samples_split': [2, 5, 10],\n",
    "    'min_samples_leaf': [1, 2, 4]\n",
    "}\n",
    "rf_model = RandomForestClassifier(random_state=42)\n",
    "rf_grid_search = GridSearchCV(rf_model, rf_param_grid, cv=20, scoring='accuracy', n_jobs=-1)\n",
    "rf_grid_search.fit(X_train, y_train)\n",
    "\n",
    "# Best estimator after tuning\n",
    "best_rf_model = rf_grid_search.best_estimator_\n",
    "\n",
    "# Make predictions\n",
    "y_pred_rf = best_rf_model.predict(X_test)\n",
    "\n",
    "# Calculate evaluation metrics\n",
    "rf_accuracy = accuracy_score(y_test, y_pred_rf)\n",
    "rf_precision = precision_score(y_test, y_pred_rf, average='weighted')\n",
    "rf_recall = recall_score(y_test, y_pred_rf, average='weighted')\n",
    "rf_f1 = f1_score(y_test, y_pred_rf, average='weighted')\n",
    "rf_confusion_matrix = confusion_matrix(y_test, y_pred_rf)\n",
    "\n",
    "# Store results\n",
    "rf_results = {\n",
    "    'Best Parameters': rf_grid_search.best_params_,\n",
    "    'Accuracy': rf_accuracy,\n",
    "    'Precision': rf_precision,\n",
    "    'Recall': rf_recall,\n",
    "    'F1 Score': rf_f1,\n",
    "    'Confusion Matrix': rf_confusion_matrix\n",
    "}\n",
    "\n",
    "# Display Random Forest results\n",
    "print(\"Random Forest Results:\")\n",
    "print(f\"Best Parameters: {rf_results['Best Parameters']}\")\n",
    "print(f\"Accuracy: {rf_results['Accuracy']}\")\n",
    "print(f\"Precision: {rf_results['Precision']}\")\n",
    "print(f\"Recall: {rf_results['Recall']}\")\n",
    "print(f\"F1 Score: {rf_results['F1 Score']}\")\n",
    "print(\"-\" * 30)\n"
   ]
  },
  {
   "cell_type": "code",
   "execution_count": 58,
   "metadata": {},
   "outputs": [
    {
     "name": "stdout",
     "output_type": "stream",
     "text": [
      "Training Logistic Regression with GridSearchCV...\n",
      "Logistic Regression Results:\n",
      "Best Parameters: {'C': 0.1, 'solver': 'liblinear'}\n",
      "Accuracy: 0.7875\n",
      "Precision: 0.7888957645764577\n",
      "Recall: 0.7875\n",
      "F1 Score: 0.787602296953442\n",
      "------------------------------\n"
     ]
    }
   ],
   "source": [
    "print(\"Training Logistic Regression with GridSearchCV...\")\n",
    "lr_param_grid = {\n",
    "    'C': [0.1, 1, 10, 100],\n",
    "    'solver': ['liblinear', 'lbfgs']\n",
    "}\n",
    "lr_model = LogisticRegression(max_iter=1000, random_state=42)\n",
    "lr_grid_search = GridSearchCV(lr_model, lr_param_grid, cv=20, scoring='accuracy', n_jobs=-1)\n",
    "lr_grid_search.fit(X_train, y_train)\n",
    "\n",
    "# Best estimator after tuning\n",
    "best_lr_model = lr_grid_search.best_estimator_\n",
    "\n",
    "# Make predictions\n",
    "y_pred_lr = best_lr_model.predict(X_test)\n",
    "\n",
    "# Calculate evaluation metrics\n",
    "lr_accuracy = accuracy_score(y_test, y_pred_lr)\n",
    "lr_precision = precision_score(y_test, y_pred_lr, average='weighted')\n",
    "lr_recall = recall_score(y_test, y_pred_lr, average='weighted')\n",
    "lr_f1 = f1_score(y_test, y_pred_lr, average='weighted')\n",
    "lr_confusion_matrix = confusion_matrix(y_test, y_pred_lr)\n",
    "\n",
    "# Store results\n",
    "lr_results = {\n",
    "    'Best Parameters': lr_grid_search.best_params_,\n",
    "    'Accuracy': lr_accuracy,\n",
    "    'Precision': lr_precision,\n",
    "    'Recall': lr_recall,\n",
    "    'F1 Score': lr_f1,\n",
    "    'Confusion Matrix': lr_confusion_matrix\n",
    "}\n",
    "\n",
    "# Display Logistic Regression results\n",
    "print(\"Logistic Regression Results:\")\n",
    "print(f\"Best Parameters: {lr_results['Best Parameters']}\")\n",
    "print(f\"Accuracy: {lr_results['Accuracy']}\")\n",
    "print(f\"Precision: {lr_results['Precision']}\")\n",
    "print(f\"Recall: {lr_results['Recall']}\")\n",
    "print(f\"F1 Score: {lr_results['F1 Score']}\")\n",
    "print(\"-\" * 30)"
   ]
  },
  {
   "cell_type": "code",
   "execution_count": 59,
   "metadata": {},
   "outputs": [
    {
     "data": {
      "image/png": "[encoded data removed]",
      "text/plain": [
       "<Figure size 800x600 with 1 Axes>"
      ]
     },
     "metadata": {},
     "output_type": "display_data"
    }
   ],
   "source": [
    "rf_confusion_matrix = rf_results['Confusion Matrix']\n",
    "\n",
    "# Plot confusion matrix as a heatmap\n",
    "plt.figure(figsize=(8, 6))\n",
    "sns.heatmap(rf_confusion_matrix, annot=True, fmt='d', cmap='Blues', cbar=False, \n",
    "            xticklabels=['Predicted 0', 'Predicted 1'], \n",
    "            yticklabels=['Actual 0', 'Actual 1'])\n",
    "\n",
    "plt.title('Confusion Matrix Heatmap for Random Forest Model')\n",
    "plt.xlabel('Predicted Labels')\n",
    "plt.ylabel('True Labels')\n",
    "plt.show()"
   ]
  },
  {
   "cell_type": "code",
   "execution_count": 60,
   "metadata": {},
   "outputs": [
    {
     "name": "stdout",
     "output_type": "stream",
     "text": [
      "Random Forest model saved as 'random_forest_model.pkl'\n"
     ]
    }
   ],
   "source": [
    "import pickle\n",
    "\n",
    "\n",
    "# Save the model to a file\n",
    "with open('rf_modelL.pkl', 'wb') as model_file:\n",
    "    pickle.dump(best_rf_model, model_file)\n",
    "\n",
    "print(\"Random Forest model saved as 'random_forest_model.pkl'\")\n"
   ]
  }
 ],
 "metadata": {
  "kernelspec": {
   "display_name": "qualityenv",
   "language": "python",
   "name": "python3"
  },
  "language_info": {
   "codemirror_mode": {
    "name": "ipython",
    "version": 3
   },
   "file_extension": ".py",
   "mimetype": "text/x-python",
   "name": "python",
   "nbconvert_exporter": "python",
   "pygments_lexer": "ipython3",
   "version": "3.8.19"
  }
 },
 "nbformat": 4,
 "nbformat_minor": 2
}
